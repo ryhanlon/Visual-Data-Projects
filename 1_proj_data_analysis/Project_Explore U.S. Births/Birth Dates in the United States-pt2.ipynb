{
 "cells": [
  {
   "cell_type": "code",
   "execution_count": 47,
   "metadata": {
    "collapsed": false
   },
   "outputs": [
    {
     "data": {
      "text/plain": [
       "['year,month,date_of_month,day_of_week,births',\n",
       " '1994,1,1,6,8096',\n",
       " '1994,1,2,7,7772',\n",
       " '1994,1,3,1,10142',\n",
       " '1994,1,4,2,11248',\n",
       " '1994,1,5,3,11053',\n",
       " '1994,1,6,4,11406',\n",
       " '1994,1,7,5,11251',\n",
       " '1994,1,8,6,8653']"
      ]
     },
     "execution_count": 47,
     "metadata": {},
     "output_type": "execute_result"
    }
   ],
   "source": [
    "f = open(\"US_births_1994-2003_CDC_NCHS.csv\", \"r\")\n",
    "data = f.read()\n",
    "row = data.split('\\n')\n",
    "row[:9]"
   ]
  },
  {
   "cell_type": "code",
   "execution_count": 48,
   "metadata": {
    "collapsed": false
   },
   "outputs": [],
   "source": [
    "def read_csv(file_name):\n",
    "    f = open(file_name)\n",
    "    data = f.read()\n",
    "    string_list = data.split('\\n')\n",
    "    string_list = string_list[1:len(string_list)]\n",
    "    \n",
    "    final_list = []\n",
    "    for row in string_list:\n",
    "        string_fields = row.split(',')\n",
    "        \n",
    "        int_fields = []\n",
    "        for item in string_fields:\n",
    "            int_row = int(item)\n",
    "            int_fields.append(int_row)\n",
    "            final_list.append(int_fields)\n",
    "            \n",
    "    return final_list\n",
    "    "
   ]
  },
  {
   "cell_type": "code",
   "execution_count": null,
   "metadata": {},
   "outputs": [],
   "source": []
  },
  {
   "cell_type": "code",
   "execution_count": null,
   "metadata": {},
   "outputs": [],
   "source": []
  },
  {
   "cell_type": "code",
   "execution_count": 49,
   "metadata": {
    "collapsed": false
   },
   "outputs": [
    {
     "data": {
      "text/plain": [
       "[[1994, 1, 1, 6, 8096],\n",
       " [1994, 1, 1, 6, 8096],\n",
       " [1994, 1, 1, 6, 8096],\n",
       " [1994, 1, 1, 6, 8096],\n",
       " [1994, 1, 1, 6, 8096],\n",
       " [1994, 1, 2, 7, 7772],\n",
       " [1994, 1, 2, 7, 7772],\n",
       " [1994, 1, 2, 7, 7772],\n",
       " [1994, 1, 2, 7, 7772]]"
      ]
     },
     "execution_count": 49,
     "metadata": {},
     "output_type": "execute_result"
    }
   ],
   "source": [
    "cdc_list = read_csv(\"US_births_1994-2003_CDC_NCHS.csv\")\n",
    "cdc_list[:9]"
   ]
  },
  {
   "cell_type": "code",
   "execution_count": 50,
   "metadata": {
    "collapsed": false,
    "scrolled": true
   },
   "outputs": [
    {
     "data": {
      "text/plain": [
       "{1: 16162585,\n",
       " 2: 15090700,\n",
       " 3: 16610345,\n",
       " 4: 15926570,\n",
       " 5: 16754535,\n",
       " 6: 16482650,\n",
       " 7: 17493915,\n",
       " 8: 17629290,\n",
       " 9: 17198490,\n",
       " 10: 16894070,\n",
       " 11: 15858235,\n",
       " 12: 16509300}"
      ]
     },
     "execution_count": 50,
     "metadata": {},
     "output_type": "execute_result"
    }
   ],
   "source": [
    "def month_births(list_of_lists):\n",
    "    \n",
    "    births_per_month = {}\n",
    "    for item in list_of_lists:\n",
    "        month = item[1]\n",
    "        births = item[4]\n",
    "        if month not in births_per_month:\n",
    "            births_per_month[month] = births\n",
    "        else:\n",
    "            births_per_month[month] += births  \n",
    "\n",
    "    return births_per_month   \n",
    "\n",
    "cdc_month_births = month_births(cdc_list)\n",
    "cdc_month_births"
   ]
  },
  {
   "cell_type": "code",
   "execution_count": 51,
   "metadata": {
    "collapsed": false
   },
   "outputs": [
    {
     "data": {
      "text/plain": [
       "{1: 12823, 2: 14438, 3: 12374, 4: 6628, 5: 10218, 6: 8646, 7: 7645}"
      ]
     },
     "execution_count": 51,
     "metadata": {},
     "output_type": "execute_result"
    }
   ],
   "source": [
    "def dow_births(list_of_lists):\n",
    "    day_of_week = {}\n",
    "    for item in list_of_lists:\n",
    "        week_day = item[3]\n",
    "        births = item[4]\n",
    "        if week_day not in day_of_week:\n",
    "            day_of_week[week_day] = births\n",
    "        else:\n",
    "            day_of_week[week_day] = births\n",
    "    return day_of_week        \n",
    "            \n",
    "cdc_day_births = dow_births(cdc_list)\n",
    "cdc_day_births\n",
    "            \n",
    "            "
   ]
  },
  {
   "cell_type": "code",
   "execution_count": null,
   "metadata": {
    "collapsed": true
   },
   "outputs": [],
   "source": []
  },
  {
   "cell_type": "code",
   "execution_count": 52,
   "metadata": {
    "collapsed": true
   },
   "outputs": [],
   "source": [
    "def calc_counts(data, column):\n",
    "    summary = {}\n",
    "    for item in data:\n",
    "        column_choice = item[column]\n",
    "        births = item[4]\n",
    "        if column_choice not in summary:\n",
    "            summary[column_choice] = births\n",
    "        else:\n",
    "            summary[column_choice] += births\n",
    "            \n",
    "    return summary        "
   ]
  },
  {
   "cell_type": "code",
   "execution_count": 53,
   "metadata": {
    "collapsed": false
   },
   "outputs": [
    {
     "data": {
      "text/plain": [
       "{1994: 19763835,\n",
       " 1995: 19497945,\n",
       " 1996: 19457470,\n",
       " 1997: 19404470,\n",
       " 1998: 19707765,\n",
       " 1999: 19797085,\n",
       " 2000: 20294070,\n",
       " 2001: 20129665,\n",
       " 2002: 20108630,\n",
       " 2003: 20449750}"
      ]
     },
     "execution_count": 53,
     "metadata": {},
     "output_type": "execute_result"
    }
   ],
   "source": [
    "cdc_year_births = calc_counts(cdc_list, 0)\n",
    "cdc_year_births"
   ]
  },
  {
   "cell_type": "code",
   "execution_count": 55,
   "metadata": {
    "collapsed": false
   },
   "outputs": [
    {
     "data": {
      "text/plain": [
       "{1: 16162585,\n",
       " 2: 15090700,\n",
       " 3: 16610345,\n",
       " 4: 15926570,\n",
       " 5: 16754535,\n",
       " 6: 16482650,\n",
       " 7: 17493915,\n",
       " 8: 17629290,\n",
       " 9: 17198490,\n",
       " 10: 16894070,\n",
       " 11: 15858235,\n",
       " 12: 16509300}"
      ]
     },
     "execution_count": 55,
     "metadata": {},
     "output_type": "execute_result"
    }
   ],
   "source": [
    "cdc_month_births = calc_counts(cdc_list, 1)\n",
    "cdc_month_births"
   ]
  },
  {
   "cell_type": "code",
   "execution_count": 56,
   "metadata": {
    "collapsed": false
   },
   "outputs": [
    {
     "data": {
      "text/plain": [
       "{1: 6382785,\n",
       " 2: 6443695,\n",
       " 3: 6522495,\n",
       " 4: 6440770,\n",
       " 5: 6499765,\n",
       " 6: 6522370,\n",
       " 7: 6552295,\n",
       " 8: 6561485,\n",
       " 9: 6516460,\n",
       " 10: 6603820,\n",
       " 11: 6571805,\n",
       " 12: 6592185,\n",
       " 13: 6388420,\n",
       " 14: 6600765,\n",
       " 15: 6595855,\n",
       " 16: 6575960,\n",
       " 17: 6624765,\n",
       " 18: 6634275,\n",
       " 19: 6593635,\n",
       " 20: 6624105,\n",
       " 21: 6614485,\n",
       " 22: 6586905,\n",
       " 23: 6466450,\n",
       " 24: 6440415,\n",
       " 25: 6360580,\n",
       " 26: 6423980,\n",
       " 27: 6471975,\n",
       " 28: 6538425,\n",
       " 29: 6115805,\n",
       " 30: 6010475,\n",
       " 31: 3733480}"
      ]
     },
     "execution_count": 56,
     "metadata": {},
     "output_type": "execute_result"
    }
   ],
   "source": [
    "cdc_dom_births = calc_counts(cdc_list, 2)\n",
    "cdc_dom_births"
   ]
  },
  {
   "cell_type": "code",
   "execution_count": 58,
   "metadata": {
    "collapsed": false
   },
   "outputs": [
    {
     "data": {
      "text/plain": [
       "{1: 28945830,\n",
       " 2: 32230980,\n",
       " 3: 31614275,\n",
       " 4: 31442145,\n",
       " 5: 31168285,\n",
       " 6: 22810555,\n",
       " 7: 20398615}"
      ]
     },
     "execution_count": 58,
     "metadata": {},
     "output_type": "execute_result"
    }
   ],
   "source": [
    "cdc_dow_births = calc_counts(cdc_list, 3)\n",
    "cdc_dow_births\n"
   ]
  },
  {
   "cell_type": "code",
   "execution_count": null,
   "metadata": {
    "collapsed": true
   },
   "outputs": [],
   "source": []
  }
 ],
 "metadata": {
  "anaconda-cloud": {},
  "kernelspec": {
   "display_name": "Python 3",
   "language": "python",
   "name": "python3"
  },
  "language_info": {
   "codemirror_mode": {
    "name": "ipython",
    "version": 3
   },
   "file_extension": ".py",
   "mimetype": "text/x-python",
   "name": "python",
   "nbconvert_exporter": "python",
   "pygments_lexer": "ipython3",
   "version": "3.6.0"
  }
 },
 "nbformat": 4,
 "nbformat_minor": 1
}
